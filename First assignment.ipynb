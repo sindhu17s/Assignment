{
  "cells": [
    {
      "cell_type": "markdown",
      "metadata": {
        "id": "9_siXIRQje9m"
      },
      "source": [
        "1.Data Types: Name five different data types in Python and provide an example of each."
      ]
    },
    {
      "cell_type": "code",
      "execution_count": 1,
      "metadata": {},
      "outputs": [
        {
          "name": "stdout",
          "output_type": "stream",
          "text": [
            "Integer value:- 567\n",
            "567\n",
            "Float Value:= 785.4\n",
            "785.4\n",
            "boollean value:= False\n",
            "True\n",
            "986j\n",
            "sindhu\n"
          ]
        }
      ],
      "source": [
        "#Integer\n",
        "a=567\n",
        "print(\"Integer value:-\", a)\n",
        "print(a)\n",
        "\n",
        "\n",
        "#Floating\n",
        "b=785.4\n",
        "print(\"Float Value:=\", b)\n",
        "print(b)\n",
        "\n",
        "\n",
        "#Boolean\n",
        "c=250\n",
        "print(\"boollean value:=\", b<c)\n",
        "print(True)\n",
        "\n",
        "\n",
        "#Complex\n",
        "d=986j\n",
        "print(d)\n",
        "\n",
        "\n",
        "#String\n",
        "a=\"sindhu\"\n",
        "print(a)"
      ]
    },
    {
      "cell_type": "markdown",
      "metadata": {},
      "source": [
        "Data Types: Data Types degined as a data element and defines the type by the value the holds.\n",
        "python supports various built-in-data types. Numeric we store the numeric values. we have four numerical data types they are:\n",
        "1.Integer: It stores numerical values without having decimal points.\n",
        "2.Boolean: It stores only 0's (zero's) and 1's (one's).\n",
        "3.Float: It stores numbers having decimal points.\n",
        "4.Complex: It uses j as an imaginary part and add it to number.\n",
        "-> String is an immutable data types which means we can't the value once we declare\n",
        "-> A string we don't have character data types a single character also stores as string data types with length 1\n",
        "-> In string we access values by indexes "
      ]
    },
    {
      "cell_type": "markdown",
      "metadata": {
        "id": "nQOdJHwHjkSP"
      },
      "source": [
        "2.Control Flow - Nested if: What is a nested if statement? Provide an example demonstrating nested if-else blocks."
      ]
    },
    {
      "cell_type": "code",
      "execution_count": 2,
      "metadata": {},
      "outputs": [
        {
          "name": "stdout",
          "output_type": "stream",
          "text": [
            "You are eligible for loan.\n"
          ]
        }
      ],
      "source": [
        "age=int(input(\"Enter age:-\"))\n",
        "income=int(input(\"Enter income:-\"))\n",
        "if age >=18:\n",
        "    if income >=25000:\n",
        "        print(\"You are eligible for loan.\")\n",
        "    else:\n",
        "        print(\"You are not eligible for loan.\")\n",
        "else:\n",
        "    print(\"You age must be atleast 18 years old.\")"
      ]
    },
    {
      "cell_type": "markdown",
      "metadata": {},
      "source": [
        "Nested If:  If inside another if statement is called nested if."
      ]
    },
    {
      "cell_type": "markdown",
      "metadata": {
        "id": "LohFxFacjrgX"
      },
      "source": [
        "3.Membership Operators: What are membership operators in Python? Provide an example demonstrating their use"
      ]
    },
    {
      "cell_type": "markdown",
      "metadata": {},
      "source": [
        "Membership operators: Membership operators is used to check the if the sequences of the values is present or not.\n",
        "-> We are having 2 types of operators:\n",
        "-> In \n",
        "-> Not In"
      ]
    },
    {
      "cell_type": "code",
      "execution_count": 3,
      "metadata": {},
      "outputs": [
        {
          "name": "stdout",
          "output_type": "stream",
          "text": [
            "False\n",
            "True\n"
          ]
        }
      ],
      "source": [
        "a=[35, 45, 55]\n",
        "b=[23, 33, 43]\n",
        "list=b\n",
        "print(list in a)\n",
        "print(list not in b)"
      ]
    },
    {
      "cell_type": "markdown",
      "metadata": {
        "id": "ugQUjDCdjwwC"
      },
      "source": [
        "4.Loops - for loop: How does a for loop work in Python? Provide an example of iterating through a list using a for loop."
      ]
    },
    {
      "cell_type": "markdown",
      "metadata": {},
      "source": [
        "For loop: For loop is used when we know how many iterations are needed."
      ]
    },
    {
      "cell_type": "code",
      "execution_count": 4,
      "metadata": {},
      "outputs": [
        {
          "name": "stdout",
          "output_type": "stream",
          "text": [
            "45\n",
            "24\n",
            "6745\n",
            "23876\n",
            "6783452\n"
          ]
        }
      ],
      "source": [
        "list=[45 ,24, 6745, 23876, 6783452]\n",
        "for i in list:\n",
        "    print(i)"
      ]
    },
    {
      "cell_type": "markdown",
      "metadata": {
        "id": "6hh6ZV1mjyo_"
      },
      "source": [
        "5.Control Flow - match-case statement: What is the match-case statement introduced in Python 3.10, and how does it differ from traditional switch statements?"
      ]
    },
    {
      "cell_type": "markdown",
      "metadata": {},
      "source": [
        "Control Flow: Match case statement is similar to switch statements."
      ]
    },
    {
      "cell_type": "code",
      "execution_count": 10,
      "metadata": {},
      "outputs": [
        {
          "name": "stdout",
          "output_type": "stream",
          "text": [
            "04\n"
          ]
        }
      ],
      "source": [
        "def days(n):\n",
        "    match n:\n",
        "        case 1:\n",
        "            return \"01\"\n",
        "        case 2:\n",
        "            return \"02\"\n",
        "        case 3:\n",
        "            return \"03\"\n",
        "        case 4:\n",
        "            return \"04\"\n",
        "        case 5:\n",
        "            return \"05\"\n",
        "        case 6:\n",
        "            return \"06\"\n",
        "print(days(4))"
      ]
    },
    {
      "cell_type": "markdown",
      "metadata": {},
      "source": []
    },
    {
      "cell_type": "markdown",
      "metadata": {
        "id": "aS918q8Ij5JH"
      },
      "source": [
        "6.Arithmetic Operators: Explain the purpose of arithmetic operators in Python and give examples of their use."
      ]
    },
    {
      "cell_type": "markdown",
      "metadata": {},
      "source": [
        "Arithmetic operators: Arithmetic operators are used to perform numerical operations like:\n",
        "                        1.Addition (+)\n",
        "                        2.Subtraction (-)\n",
        "                        3.Multiplication (*)\n",
        "                        4.Divisiion (/)\n",
        "                        5.Eponential (**)\n",
        "                        6.Modulus (%)\n",
        "                        7.Floor Division (//)"
      ]
    },
    {
      "cell_type": "code",
      "execution_count": 16,
      "metadata": {},
      "outputs": [
        {
          "name": "stdout",
          "output_type": "stream",
          "text": [
            "Addition: 13\n",
            "Subtraction: 7\n",
            "Multiplication: 30\n",
            "Division: 3.3333333333333335\n",
            "Integer Division: 3\n",
            "Modulus: 1\n",
            "Exponentiation: 1000\n",
            "Flow Division 3\n"
          ]
        }
      ],
      "source": [
        "a = 10\n",
        "b = 3\n",
        "\n",
        "# Addition\n",
        "add_result = a + b\n",
        "print(\"Addition:\", add_result)\n",
        "\n",
        "# Subtraction\n",
        "sub_result = a - b\n",
        "print(\"Subtraction:\", sub_result) \n",
        "\n",
        "# Multiplication\n",
        "mul_result = a * b\n",
        "print(\"Multiplication:\", mul_result) \n",
        "\n",
        "# Division\n",
        "div_result = a / b\n",
        "print(\"Division:\", div_result) \n",
        "\n",
        "# Integer Division\n",
        "int_div_result = a // b\n",
        "print(\"Integer Division:\", int_div_result)  \n",
        "\n",
        "# Modulus\n",
        "mod_result = a % b\n",
        "print(\"Modulus:\", mod_result)\n",
        "\n",
        "# Exponentiation\n",
        "exp_result = a ** b\n",
        "print(\"Exponentiation:\", exp_result) \n",
        "\n",
        "# Flow Division\n",
        "flow_result = a // b\n",
        "print(\"Flow Division\", flow_result)\n",
        "\n"
      ]
    },
    {
      "cell_type": "markdown",
      "metadata": {
        "id": "zPx-7matkfeR"
      },
      "source": [
        "7.Control Flow - Describe the use of if, elif, and else in Python's control flow and provide an example."
      ]
    },
    {
      "cell_type": "markdown",
      "metadata": {},
      "source": [
        "if: It is used to execute a block of code if a certain condition is true.\n",
        "\n",
        "elif: It stands for \"else if\". It is used to check additional conditions if the preceding if statement(s) are false. You can have multiple elif statements.\n",
        "\n",
        "else: It is used to execute a block of code if none of the preceding if or elif conditions are true. It's optional and can only appear once at the end of the if-elif-else block."
      ]
    },
    {
      "cell_type": "code",
      "execution_count": 13,
      "metadata": {},
      "outputs": [
        {
          "name": "stdout",
          "output_type": "stream",
          "text": [
            "Adult\n"
          ]
        }
      ],
      "source": [
        "age=int(input(\"Enter Age:-\"))\n",
        "if age >= 0 and age <=3:\n",
        "    print(\"Baby\")\n",
        "elif age >3 and age <=6:\n",
        "    print(\"Kid\")\n",
        "elif age >6 and age <=12:\n",
        "    print(\"Child\")\n",
        "elif age >12 and age <=19:\n",
        "    print(\"Teenager\")\n",
        "elif age >19 and age <=30:\n",
        "    print(\"Adult\")\n",
        "elif age >30 and age <=50:\n",
        "    print(\"Mid-Age\")\n",
        "elif age >50 and age <60:\n",
        "    print(\"Getting old\")\n",
        "elif age >60 and age <=70:\n",
        "    print(\"Older\")\n",
        "elif age >70 and age <=99:\n",
        "    print(\"Granny's\")\n",
        "else:\n",
        "    print(\"Century\")"
      ]
    },
    {
      "cell_type": "markdown",
      "metadata": {
        "id": "2yHXziD8q5qO"
      },
      "source": [
        "9.Variables: Describe the concept of variables in Python, including variable naming rules.Give Examples."
      ]
    },
    {
      "cell_type": "markdown",
      "metadata": {},
      "source": [
        "Variables: It is like a memory location where the value is stores.\n",
        "variable declaration: we no need any commands unliks the other programming langugae just assigning the value to the variable."
      ]
    },
    {
      "cell_type": "code",
      "execution_count": 18,
      "metadata": {},
      "outputs": [
        {
          "name": "stdout",
          "output_type": "stream",
          "text": [
            "5689\n"
          ]
        }
      ],
      "source": [
        "r=5689\n",
        "print(r)"
      ]
    },
    {
      "cell_type": "markdown",
      "metadata": {
        "id": "022e4cZPrBJ3"
      },
      "source": [
        "10.Bitwise Operators: Explain bitwise operators (AND, XOR) in Python with examples."
      ]
    },
    {
      "cell_type": "markdown",
      "metadata": {},
      "source": [
        "AND Operator (and):\n",
        "The and operator in logic is used to combine two conditions. It returns True if both conditions are true, otherwise, it returns False.\n",
        "\n",
        "XOR Operator (^ or !=):\n",
        "XOR stands for \"exclusive or\". The XOR operator returns True if exactly one of the conditions is true, and returns False otherwise."
      ]
    },
    {
      "cell_type": "code",
      "execution_count": 27,
      "metadata": {},
      "outputs": [
        {
          "name": "stdout",
          "output_type": "stream",
          "text": [
            "7\n",
            "12\n"
          ]
        }
      ],
      "source": [
        "#Bitwise AND\n",
        "print( 4 | 3)\n",
        "\n",
        "#Bitwise XOR\n",
        "print(5 ^ 9)"
      ]
    },
    {
      "cell_type": "markdown",
      "metadata": {
        "id": "ZhG7bZHfrGV-"
      },
      "source": [
        "11.Loop Control - What does the break statement do in Python loops? Give an example."
      ]
    },
    {
      "cell_type": "markdown",
      "metadata": {},
      "source": [
        "Break Statement: It terminates the loop according to the condition"
      ]
    },
    {
      "cell_type": "code",
      "execution_count": 34,
      "metadata": {},
      "outputs": [
        {
          "name": "stdout",
          "output_type": "stream",
          "text": [
            "Number 4 found. Exiting loop.\n",
            "5\n"
          ]
        }
      ],
      "source": [
        "numbers = [1, 4, 3, 2, 5]\n",
        "\n",
        "for num in numbers:\n",
        "    if num == 5:\n",
        "        print(\"Number 4 found. Exiting loop.\")\n",
        "        break\n",
        "print(num)"
      ]
    },
    {
      "cell_type": "markdown",
      "metadata": {
        "id": "HOSAHxf0rKsk"
      },
      "source": [
        "12.Assignment Operators: Describe the different types of assignment operators in Python and provide examples of their usage."
      ]
    },
    {
      "cell_type": "markdown",
      "metadata": {},
      "source": [
        "Assignment operators are used to assign values.\n",
        "->The assignment operator = assigns the value of its right-hand operand to a variable given by its left-hand operand."
      ]
    },
    {
      "cell_type": "code",
      "execution_count": 36,
      "metadata": {},
      "outputs": [
        {
          "name": "stdout",
          "output_type": "stream",
          "text": [
            "50\n",
            "34\n",
            "495\n",
            "1\n",
            "1159445329576199417209625244140625\n",
            "25\n",
            "22.5\n",
            "77\n",
            "9\n"
          ]
        }
      ],
      "source": [
        "#Assignment Operators\n",
        "\n",
        "a=30 \n",
        "a+=20\n",
        "print(a)\n",
        "\n",
        "b=14 \n",
        "b+=20\n",
        "print(b)\n",
        "\n",
        "c=33\n",
        "c*=15\n",
        "print(c)\n",
        "\n",
        "d=2557\n",
        "d%=6\n",
        "print(d)\n",
        "\n",
        "e=45\n",
        "e**=20\n",
        "print(e)\n",
        "\n",
        "f=76\n",
        "f//=3\n",
        "print(f)\n",
        "\n",
        "g=45\n",
        "g/=2\n",
        "print(g)\n",
        "\n",
        "h=67 \n",
        "h^=14\n",
        "print(h)\n",
        "\n",
        "i=667\n",
        "i&=13\n",
        "print(i)"
      ]
    },
    {
      "cell_type": "markdown",
      "metadata": {
        "id": "5orrJ6VFrMZZ"
      },
      "source": [
        "13.String Methods: Name three string methods in Python and describe their uses."
      ]
    },
    {
      "cell_type": "markdown",
      "metadata": {},
      "source": [
        "len():-It returns the length of the string.\n",
        "lower():-It returns the string in lower case.\n",
        "upper():-It returns the string in upper case.\n",
        "replace():-It returns the string by replacing the specified value."
      ]
    },
    {
      "cell_type": "code",
      "execution_count": 41,
      "metadata": {},
      "outputs": [
        {
          "name": "stdout",
          "output_type": "stream",
          "text": [
            "6\n",
            "sindhu\n",
            "SINDHU\n",
            "sindhh\n"
          ]
        }
      ],
      "source": [
        "str='sindhu'\n",
        "print(len(str))\n",
        "print(str.lower())\n",
        "print(str.upper())\n",
        "print(str.replace('u', 'h'))"
      ]
    },
    {
      "cell_type": "code",
      "execution_count": null,
      "metadata": {},
      "outputs": [],
      "source": []
    },
    {
      "cell_type": "markdown",
      "metadata": {
        "id": "rcqvsYa_rWQ1"
      },
      "source": [
        "14.Loop Control - Describe the purpose of the continue statement in Python loops and provide an example of its use."
      ]
    },
    {
      "cell_type": "markdown",
      "metadata": {},
      "source": [
        "In Python, the continue statement is used within loops (such as for and while loops) to skip the rest of the code inside the loop for the current iteration and proceed to the next iteration. It effectively tells Python to ignore the remaining statements in the loop's body and start the next iteration immediately.\n",
        "\n",
        "The purpose of the continue statement is to selectively skip certain iterations of the loop based on a condition, without exiting the loop entirely. It allows for more control over the flow of the loop and helps in avoiding unnecessary computation or processing for specific cases."
      ]
    },
    {
      "cell_type": "code",
      "execution_count": 40,
      "metadata": {},
      "outputs": [
        {
          "name": "stdout",
          "output_type": "stream",
          "text": [
            "1\n",
            "5\n",
            "7\n"
          ]
        }
      ],
      "source": [
        "for i in range(1, 11):\n",
        "    \n",
        "    if i % 3 == 0:\n",
        "        continue  \n",
        "        \n",
        "    if i % 2 != 0:\n",
        "        print(i)\n"
      ]
    },
    {
      "cell_type": "markdown",
      "metadata": {
        "id": "zzO_aJFZrb-p"
      },
      "source": [
        "15.Identity Operators: Describe identity operators in Python and explain when they are used."
      ]
    },
    {
      "cell_type": "markdown",
      "metadata": {},
      "source": [
        "Identity operators in Python are used to compare the memory locations of two objects rather than their values. They are used to determine whether two variables reference the same object in memory. Python provides two identity operators:\n",
        "\n",
        "    1.is: Returns True if both variables refer to the same object, otherwise False.\n",
        "\n",
        "    2.is not: Returns True if both variables refer to different objects, otherwise False."
      ]
    },
    {
      "cell_type": "code",
      "execution_count": 38,
      "metadata": {},
      "outputs": [
        {
          "name": "stdout",
          "output_type": "stream",
          "text": [
            "False\n",
            "True\n",
            "True\n",
            "True\n",
            "False\n",
            "False\n"
          ]
        }
      ],
      "source": [
        "x = [1, 2, 3]\n",
        "y = [1, 2, 3]\n",
        "z = x\n",
        "\n",
        "# Using is\n",
        "print(x is y)    \n",
        "print(x is z)    \n",
        "print(y is not z) \n",
        "\n",
        "# Using is not\n",
        "print(x is not y)   \n",
        "print(x is not z)   \n",
        "print(y is z)       \n"
      ]
    }
  ],
  "metadata": {
    "colab": {
      "provenance": []
    },
    "kernelspec": {
      "display_name": "Python 3",
      "name": "python3"
    },
    "language_info": {
      "codemirror_mode": {
        "name": "ipython",
        "version": 3
      },
      "file_extension": ".py",
      "mimetype": "text/x-python",
      "name": "python",
      "nbconvert_exporter": "python",
      "pygments_lexer": "ipython3",
      "version": "3.11.9"
    }
  },
  "nbformat": 4,
  "nbformat_minor": 0
}
